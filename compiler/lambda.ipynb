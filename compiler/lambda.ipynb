{
 "cells": [
  {
   "cell_type": "code",
   "execution_count": 4,
   "metadata": {},
   "outputs": [
    {
     "name": "stdout",
     "output_type": "stream",
     "text": [
      "Loading names\n",
      "Problem path: peano3.th\n",
      "Found 314 proofs for theorem peano3.th\n",
      "Solution of length 8\n",
      "Extend from 1 0 to: 2 2\n",
      "Extend from 2 0 to: 0 0\n",
      "Retract from 2 0 to: 0 0\n",
      "Extend from 2 1 to: 16 0\n",
      "Retract from 2 1 to: 16 0\n",
      "Retract from 1 0 to: 2 2\n",
      "Extend from 1 1 to: 17 0\n",
      "Retract from 1 1 to: 17 0\n",
      "\n"
     ]
    }
   ],
   "source": [
    "import lambda_cnf\n",
    "from subprocess import PIPE, run\n",
    "\n",
    "name = \"peano3\"\n",
    "\n",
    "def out(command):\n",
    "    result = run(command, stdout=PIPE, stderr=PIPE, universal_newlines=True, shell=True)\n",
    "    return result.stdout\n",
    "\n",
    "f = open(name + \".lamb\")\n",
    "th = lambda_cnf.compile_lambda(f.read())\n",
    "f.close()\n",
    "\n",
    "compiled = th.compile()\n",
    "f = open(name + \".th\", 'w')\n",
    "f.write(compiled)\n",
    "f.close()\n",
    "\n",
    "\n",
    "result = out(\"../solve_problem peano3.th\")\n",
    "print(result)"
   ]
  }
 ],
 "metadata": {
  "kernelspec": {
   "display_name": "Python 3",
   "language": "python",
   "name": "python3"
  },
  "language_info": {
   "codemirror_mode": {
    "name": "ipython",
    "version": 3
   },
   "file_extension": ".py",
   "mimetype": "text/x-python",
   "name": "python",
   "nbconvert_exporter": "python",
   "pygments_lexer": "ipython3",
   "version": "3.8.2"
  },
  "orig_nbformat": 4,
  "vscode": {
   "interpreter": {
    "hash": "916dbcbb3f70747c44a77c7bcd40155683ae19c65e1c03b4aa3499c5328201f1"
   }
  }
 },
 "nbformat": 4,
 "nbformat_minor": 2
}
